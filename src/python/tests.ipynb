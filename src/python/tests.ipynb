{
 "cells": [
  {
   "cell_type": "code",
   "execution_count": 1,
   "metadata": {
    "collapsed": true
   },
   "outputs": [],
   "source": [
    "import time\n",
    "import numpy as np\n",
    "\n",
    "from scipy.stats import spearmanr, pearsonr\n",
    "from sklearn.metrics import r2_score\n",
    "from sklearn.metrics import mean_squared_error"
   ]
  },
  {
   "cell_type": "markdown",
   "metadata": {},
   "source": [
    "### Для Ki"
   ]
  },
  {
   "cell_type": "code",
   "execution_count": 2,
   "metadata": {
    "collapsed": true
   },
   "outputs": [],
   "source": [
    "start_time = time.time()\n",
    "\n",
    "X_nat_train = np.loadtxt('../../data/pdb/refined/ki/X_nat_train.data')\n",
    "s_train = np.loadtxt('../../data/pdb/refined/ki/s_train.data')\n",
    "X_test = np.loadtxt('../../data/pdb/refined/ki/X_test.data')\n",
    "s_test = np.loadtxt('../../data/pdb/refined/ki/s_test.data')\n",
    "\n",
    "print(\"--- %s seconds ---\" % (time.time() - start_time))"
   ]
  },
  {
   "cell_type": "code",
   "execution_count": 6,
   "metadata": {
    "collapsed": false
   },
   "outputs": [
    {
     "data": {
      "text/plain": [
       "(7686, 1)"
      ]
     },
     "execution_count": 6,
     "metadata": {},
     "output_type": "execute_result"
    }
   ],
   "source": [
    "with open(\"../../data/pdb/refined/ki/w.data\", \"r\") as f:\n",
    "    w_changed = np.array(f.read().split(\"\\n\")[6:-1], dtype=float)\n",
    "w_changed = w_changed.reshape((w_changed.shape[0], 1))\n",
    "w_changed.shape"
   ]
  },
  {
   "cell_type": "code",
   "execution_count": 7,
   "metadata": {
    "collapsed": false
   },
   "outputs": [],
   "source": [
    "start_time = time.time()\n",
    "\n",
    "Cr = 100\n",
    "A_inv = np.loadtxt('../../data/pdb/refined/ki/A_inv.data')\n",
    "B = Cr * A_inv @ X_nat_train @ s_train\n",
    "B = B.reshape((B.shape[0], 1))\n",
    "w = A_inv @ (w_changed + B)\n",
    "w = w[:6440] # Отбрасываем лишние компоненты вектора w\n",
    "\n",
    "print(\"--- %s seconds ---\" % (time.time() - start_time))"
   ]
  },
  {
   "cell_type": "code",
   "execution_count": 8,
   "metadata": {
    "collapsed": false
   },
   "outputs": [
    {
     "name": "stdout",
     "output_type": "stream",
     "text": [
      "Spearman:  SpearmanrResult(correlation=0.32904501982764983, pvalue=1.534725596987488e-19)\n",
      "Pearson:  (0.2977860931387351, 3.9637580523367427e-16)\n",
      "R2:  -50.79099276469397\n",
      "MSE:  172.6498240147817\n"
     ]
    }
   ],
   "source": [
    "prediction = w.T @ X_test\n",
    "print(\"Spearman: \", spearmanr(s_test, np.array(prediction)[0]))\n",
    "print(\"Pearson: \", pearsonr(s_test, np.array(prediction)[0]))\n",
    "print(\"R2: \", r2_score(s_test, np.array(prediction)[0]))\n",
    "print(\"MSE: \", mean_squared_error(s_test, np.array(prediction)[0]))"
   ]
  },
  {
   "cell_type": "markdown",
   "metadata": {},
   "source": [
    "### Для Kd"
   ]
  },
  {
   "cell_type": "code",
   "execution_count": 10,
   "metadata": {
    "collapsed": false
   },
   "outputs": [],
   "source": [
    "start_time = time.time()\n",
    "\n",
    "X_nat_train = np.loadtxt('../../data/pdb/refined/kd/X_nat_train.data')\n",
    "s_train = np.loadtxt('../../data/pdb/refined/kd/s_train.data')\n",
    "X_test = np.loadtxt('../../data/pdb/refined/kd/X_test.data')\n",
    "s_test = np.loadtxt('../../data/pdb/refined/kd/s_test.data')\n",
    "\n",
    "print(\"--- %s seconds ---\" % (time.time() - start_time))"
   ]
  },
  {
   "cell_type": "code",
   "execution_count": 11,
   "metadata": {
    "collapsed": false
   },
   "outputs": [
    {
     "data": {
      "text/plain": [
       "(7514, 1)"
      ]
     },
     "execution_count": 11,
     "metadata": {},
     "output_type": "execute_result"
    }
   ],
   "source": [
    "with open(\"../../data/pdb/refined/kd/w.data\", \"r\") as f:\n",
    "    w_changed = np.array(f.read().split(\"\\n\")[6:-1], dtype=float)\n",
    "w_changed = w_changed.reshape((w_changed.shape[0], 1))\n",
    "w_changed.shape"
   ]
  },
  {
   "cell_type": "code",
   "execution_count": 12,
   "metadata": {
    "collapsed": true
   },
   "outputs": [],
   "source": [
    "start_time = time.time()\n",
    "\n",
    "Cr = 100\n",
    "A_inv = np.loadtxt('../../data/pdb/refined/kd/A_inv.data')\n",
    "B = Cr * A_inv @ X_nat_train @ s_train\n",
    "B = B.reshape((B.shape[0], 1))\n",
    "w = A_inv @ (w_changed + B)\n",
    "w = w[:6440] # Отбрасываем лишние компоненты вектора w\n",
    "\n",
    "print(\"--- %s seconds ---\" % (time.time() - start_time))"
   ]
  },
  {
   "cell_type": "code",
   "execution_count": 13,
   "metadata": {
    "collapsed": false
   },
   "outputs": [
    {
     "name": "stdout",
     "output_type": "stream",
     "text": [
      "Spearman:  SpearmanrResult(correlation=0.4326700466889064, pvalue=5.008683288191731e-34)\n",
      "Pearson:  (0.4087093714295311, 3.3323235462594444e-30)\n",
      "R2:  -67.60249746860241\n",
      "MSE:  228.69245176939214\n"
     ]
    }
   ],
   "source": [
    "prediction = w.T @ X_test\n",
    "print(\"Spearman: \", spearmanr(s_test, np.array(prediction)[0]))\n",
    "print(\"Pearson: \", pearsonr(s_test, np.array(prediction)[0]))\n",
    "print(\"R2: \", r2_score(s_test, np.array(prediction)[0]))\n",
    "print(\"MSE: \", mean_squared_error(s_test, np.array(prediction)[0]))"
   ]
  },
  {
   "cell_type": "code",
   "execution_count": null,
   "metadata": {
    "collapsed": true
   },
   "outputs": [],
   "source": []
  }
 ],
 "metadata": {
  "anaconda-cloud": {},
  "kernelspec": {
   "display_name": "Python [Root]",
   "language": "python",
   "name": "Python [Root]"
  },
  "language_info": {
   "codemirror_mode": {
    "name": "ipython",
    "version": 3
   },
   "file_extension": ".py",
   "mimetype": "text/x-python",
   "name": "python",
   "nbconvert_exporter": "python",
   "pygments_lexer": "ipython3",
   "version": "3.5.2"
  }
 },
 "nbformat": 4,
 "nbformat_minor": 0
}
