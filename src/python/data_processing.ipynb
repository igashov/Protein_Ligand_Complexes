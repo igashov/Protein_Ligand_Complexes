{
 "cells": [
  {
   "cell_type": "markdown",
   "metadata": {},
   "source": [
    "## Считываем данные из PDBBind (refined dataset)"
   ]
  },
  {
   "cell_type": "code",
   "execution_count": 1,
   "metadata": {
    "collapsed": true
   },
   "outputs": [],
   "source": [
    "import array, struct, sys, os, tqdm\n",
    "import numpy as np\n",
    "\n",
    "def read_binaries(path_binfiles):\n",
    "    result = {}\n",
    "    for binfile in tqdm.tqdm(os.listdir(path_binfiles)):\n",
    "        if (binfile.split('.')[1] != 'bin'):\n",
    "            continue\n",
    "        pdbcode = binfile.split('.')[0]                     # name of file (pdbcode)\n",
    "        F = open('{0}/{1}'.format(path_binfiles, binfile), 'rb')\n",
    "        n_decoys = struct.unpack('i', F.read(4))[0]         # number of decoys (=19 for this dataset)\n",
    "        dimension = struct.unpack('i', F.read(4))[0]        # data dimensionality (23 protein types x 40 ligand types x 7 bins for this dataset)\n",
    "        res = []\n",
    "        for i in range(n_decoys):\n",
    "            label = struct.unpack('d', F.read(8))[0]        # label (1 for native, -1 for non-native)\n",
    "            data = array.array('d')                         \n",
    "            data.fromfile(F, dimension)                     # feature vector (histograms, can be represented as a 23x40x7 matrix) \n",
    "            res.append([label, data])\n",
    "        result[pdbcode] = res\n",
    "        F.close()\n",
    "    return result"
   ]
  },
  {
   "cell_type": "code",
   "execution_count": 2,
   "metadata": {
    "collapsed": false
   },
   "outputs": [
    {
     "name": "stderr",
     "output_type": "stream",
     "text": [
      "100%|██████████| 13090/13090 [01:44<00:00, 125.39it/s]\n"
     ]
    }
   ],
   "source": [
    "result = read_binaries('../../data/pdb/general-no2013_t14_t3_l7.0_g1.0_r1.0')"
   ]
  },
  {
   "cell_type": "code",
   "execution_count": 3,
   "metadata": {
    "collapsed": false
   },
   "outputs": [],
   "source": [
    "with open('../../data/pdb/affinity_data_refined.csv', 'r') as f:\n",
    "    data = f.read().split('\\n')\n",
    "    data = data[1:-1]"
   ]
  },
  {
   "cell_type": "code",
   "execution_count": 4,
   "metadata": {
    "collapsed": true
   },
   "outputs": [],
   "source": [
    "datasets = [\n",
    "    {'name': d.split(',')[0], 'value': d.split(',')[1], 'type': d.split(',')[3]}\n",
    "    for d in data\n",
    "]"
   ]
  },
  {
   "cell_type": "code",
   "execution_count": 5,
   "metadata": {
    "collapsed": true
   },
   "outputs": [],
   "source": [
    "Kd_values = []\n",
    "Ki_values = []\n",
    "for d in datasets:\n",
    "    if d['type'] == 'Kd':\n",
    "        Kd_values.append(d)\n",
    "    else:\n",
    "        Ki_values.append(d)"
   ]
  },
  {
   "cell_type": "code",
   "execution_count": 6,
   "metadata": {
    "collapsed": false
   },
   "outputs": [],
   "source": [
    "Kd_data = []\n",
    "for item in Kd_values:\n",
    "    Kd_data.append([item['value']] + result[item['name']])"
   ]
  },
  {
   "cell_type": "code",
   "execution_count": 8,
   "metadata": {
    "collapsed": false
   },
   "outputs": [],
   "source": [
    "Ki_data = []\n",
    "for item in Ki_values:\n",
    "    Ki_data.append([item['value']] + result[item['name']])"
   ]
  },
  {
   "cell_type": "markdown",
   "metadata": {},
   "source": [
    "## Записываем матрицы признаков и ответов для refined "
   ]
  },
  {
   "cell_type": "code",
   "execution_count": 9,
   "metadata": {
    "collapsed": true
   },
   "outputs": [],
   "source": [
    "import time\n",
    "import numpy as np\n",
    "from math import log, exp\n",
    "from scipy.linalg import sqrtm, inv, norm\n",
    "from scipy.optimize import minimize"
   ]
  },
  {
   "cell_type": "markdown",
   "metadata": {},
   "source": [
    "## Известны значения Ki\n",
    "#### Путь: \n",
    "$\\texttt{data/pdb/refined/ki/}$\n",
    "\n",
    "#### Файлы: \n",
    "\n",
    "$\\texttt{X_nat_train.data}$ - обучающая выборка из нативных комплексов (признаки)\n",
    "\n",
    "$\\texttt{s_train.data}$ - обучающая выборка из нативных комплексов (аффинности)\n",
    "\n",
    "$\\texttt{X_train.data}$ - обучающая выборка всех комплексов (признаки)\n",
    "\n",
    "$\\texttt{y_train.data}$ - обучающа выборка всех комплексов (позы)\n",
    "\n",
    "$\\texttt{X_test.data}$ - тестовая выборка всех комплексов (признаки)\n",
    "\n",
    "$\\texttt{y_test.data}$ - тестовая выборка всех комплексов (позы)"
   ]
  },
  {
   "cell_type": "code",
   "execution_count": 10,
   "metadata": {
    "collapsed": false
   },
   "outputs": [
    {
     "name": "stdout",
     "output_type": "stream",
     "text": [
      "--- 1.5610859394073486 seconds ---\n"
     ]
    }
   ],
   "source": [
    "start_time = time.time()\n",
    "data = Ki_data\n",
    "train = data[:int(len(data) * 0.6)]\n",
    "test = data[int(len(data) * 0.6):]\n",
    "\n",
    "# Матрица признаков (для которых аффинности известны)\n",
    "X_nat_train = np.matrix([\n",
    "    t[1][1]\n",
    "    for t in train\n",
    "]).T\n",
    "\n",
    "# Столбец значений свободной энергии\n",
    "s_train = np.matrix([\n",
    "    float(t[0])\n",
    "    for t in train\n",
    "]).T\n",
    "print('--- %s seconds ---' % (time.time() - start_time))"
   ]
  },
  {
   "cell_type": "code",
   "execution_count": 11,
   "metadata": {
    "collapsed": false
   },
   "outputs": [
    {
     "name": "stdout",
     "output_type": "stream",
     "text": [
      "(6440, 1246)\n",
      "(1246, 1)\n"
     ]
    }
   ],
   "source": [
    "print(X_nat_train.shape)\n",
    "print(s_train.shape)"
   ]
  },
  {
   "cell_type": "code",
   "execution_count": 14,
   "metadata": {
    "collapsed": false
   },
   "outputs": [],
   "source": [
    "np.savetxt('../../data/pdb/refined/ki/X_nat_train.data', X_nat_train)\n",
    "np.savetxt('../../data/pdb/refined/ki/s_train.data', s_train)"
   ]
  },
  {
   "cell_type": "code",
   "execution_count": 15,
   "metadata": {
    "collapsed": false
   },
   "outputs": [
    {
     "name": "stdout",
     "output_type": "stream",
     "text": [
      "--- 19.87706184387207 seconds ---\n"
     ]
    }
   ],
   "source": [
    "start_time = time.time()\n",
    "X_train = []\n",
    "for t in train:\n",
    "    for pose in t[1:]:\n",
    "        X_train.append(pose[1])\n",
    "        \n",
    "X_train = np.matrix(X_train).T\n",
    "\n",
    "y_train = []\n",
    "for t in train:\n",
    "    for pose in t[1:]:\n",
    "        y_train.append(pose[0])\n",
    "\n",
    "y_train = np.matrix(y_train).T\n",
    "print(\"--- %s seconds ---\" % (time.time() - start_time))"
   ]
  },
  {
   "cell_type": "code",
   "execution_count": 16,
   "metadata": {
    "collapsed": false
   },
   "outputs": [
    {
     "name": "stdout",
     "output_type": "stream",
     "text": [
      "(6440, 23674)\n",
      "(23674, 1)\n"
     ]
    }
   ],
   "source": [
    "print(X_train.shape)\n",
    "print(y_train.shape)"
   ]
  },
  {
   "cell_type": "code",
   "execution_count": 17,
   "metadata": {
    "collapsed": true
   },
   "outputs": [],
   "source": [
    "np.savetxt('../../data/pdb/refined/ki/X_train.data', X_train)\n",
    "np.savetxt('../../data/pdb/refined/ki/y_train.data', y_train)"
   ]
  },
  {
   "cell_type": "code",
   "execution_count": 18,
   "metadata": {
    "collapsed": false
   },
   "outputs": [
    {
     "name": "stdout",
     "output_type": "stream",
     "text": [
      "--- 15.222612857818604 seconds ---\n"
     ]
    }
   ],
   "source": [
    "start_time = time.time()\n",
    "X_test = []\n",
    "for t in test:\n",
    "    for pose in t[1:]:\n",
    "        X_test.append(pose[1])\n",
    "        \n",
    "X_test = np.matrix(X_test).T\n",
    "\n",
    "y_test = []\n",
    "for t in test:\n",
    "    for pose in t[1:]:\n",
    "        y_test.append(pose[0])\n",
    "\n",
    "y_test = np.matrix(y_test).T\n",
    "print(\"--- %s seconds ---\" % (time.time() - start_time))"
   ]
  },
  {
   "cell_type": "code",
   "execution_count": 19,
   "metadata": {
    "collapsed": false
   },
   "outputs": [
    {
     "name": "stdout",
     "output_type": "stream",
     "text": [
      "(6440, 15789)\n",
      "(15789, 1)\n"
     ]
    }
   ],
   "source": [
    "print(X_test.shape)\n",
    "print(y_test.shape)"
   ]
  },
  {
   "cell_type": "code",
   "execution_count": 20,
   "metadata": {
    "collapsed": true
   },
   "outputs": [],
   "source": [
    "np.savetxt('../../data/pdb/refined/ki/X_test.data', X_test)\n",
    "np.savetxt('../../data/pdb/refined/ki/y_test.data', y_test)"
   ]
  },
  {
   "cell_type": "markdown",
   "metadata": {},
   "source": [
    "## Известны значения Kd\n",
    "#### Путь: \n",
    "$\\texttt{data/pdb/refined/kd/}$\n",
    "\n",
    "#### Файлы: \n",
    "\n",
    "$\\texttt{X_nat_train.data}$ - обучающая выборка из нативных комплексов (признаки)\n",
    "\n",
    "$\\texttt{s_train.data}$ - обучающая выборка из нативных комплексов (аффинности)\n",
    "\n",
    "$\\texttt{X_train.data}$ - обучающая выборка всех комплексов (признаки)\n",
    "\n",
    "$\\texttt{y_train.data}$ - обучающа выборка всех комплексов (позы)\n",
    "\n",
    "$\\texttt{X_test.data}$ - тестовая выборка всех комплексов (признаки)\n",
    "\n",
    "$\\texttt{y_test.data}$ - тестовая выборка всех комплексов (позы)"
   ]
  },
  {
   "cell_type": "code",
   "execution_count": 22,
   "metadata": {
    "collapsed": false
   },
   "outputs": [
    {
     "name": "stdout",
     "output_type": "stream",
     "text": [
      "--- 0.4967072010040283 seconds ---\n",
      "(6440, 1074)\n",
      "(1074, 1)\n"
     ]
    }
   ],
   "source": [
    "start_time = time.time()\n",
    "data = Kd_data\n",
    "train = data[:int(len(data) * 0.6)]\n",
    "test = data[int(len(data) * 0.6):]\n",
    "\n",
    "# Матрица признаков (для которых аффинности известны)\n",
    "X_nat_train = np.matrix([\n",
    "    t[1][1]\n",
    "    for t in train\n",
    "]).T\n",
    "\n",
    "# Столбец значений свободной энергии\n",
    "s_train = np.matrix([\n",
    "    float(t[0])\n",
    "    for t in train\n",
    "]).T\n",
    "print('--- %s seconds ---' % (time.time() - start_time))\n",
    "\n",
    "print(X_nat_train.shape)\n",
    "print(s_train.shape)\n",
    "\n",
    "np.savetxt('../../data/pdb/refined/kd/X_nat_train.data', X_nat_train)\n",
    "np.savetxt('../../data/pdb/refined/kd/s_train.data', s_train)"
   ]
  },
  {
   "cell_type": "code",
   "execution_count": 23,
   "metadata": {
    "collapsed": false
   },
   "outputs": [
    {
     "name": "stdout",
     "output_type": "stream",
     "text": [
      "--- 18.69843888282776 seconds ---\n",
      "(6440, 20406)\n",
      "(20406, 1)\n"
     ]
    }
   ],
   "source": [
    "start_time = time.time()\n",
    "X_train = []\n",
    "for t in train:\n",
    "    for pose in t[1:]:\n",
    "        X_train.append(pose[1])\n",
    "        \n",
    "X_train = np.matrix(X_train).T\n",
    "\n",
    "y_train = []\n",
    "for t in train:\n",
    "    for pose in t[1:]:\n",
    "        y_train.append(pose[0])\n",
    "\n",
    "y_train = np.matrix(y_train).T\n",
    "print(\"--- %s seconds ---\" % (time.time() - start_time))\n",
    "\n",
    "print(X_train.shape)\n",
    "print(y_train.shape)\n",
    "\n",
    "np.savetxt('../../data/pdb/refined/kd/X_train.data', X_train)\n",
    "np.savetxt('../../data/pdb/refined/kd/y_train.data', y_train)"
   ]
  },
  {
   "cell_type": "code",
   "execution_count": 24,
   "metadata": {
    "collapsed": false
   },
   "outputs": [
    {
     "name": "stdout",
     "output_type": "stream",
     "text": [
      "--- 13.762219905853271 seconds ---\n",
      "(6440, 13604)\n",
      "(13604, 1)\n"
     ]
    }
   ],
   "source": [
    "start_time = time.time()\n",
    "X_test = []\n",
    "for t in test:\n",
    "    for pose in t[1:]:\n",
    "        X_test.append(pose[1])\n",
    "        \n",
    "X_test = np.matrix(X_test).T\n",
    "\n",
    "y_test = []\n",
    "for t in test:\n",
    "    for pose in t[1:]:\n",
    "        y_test.append(pose[0])\n",
    "\n",
    "y_test = np.matrix(y_test).T\n",
    "print(\"--- %s seconds ---\" % (time.time() - start_time))\n",
    "\n",
    "print(X_test.shape)\n",
    "print(y_test.shape)\n",
    "\n",
    "np.savetxt('../../data/pdb/refined/kd/X_test.data', X_test)\n",
    "np.savetxt('../../data/pdb/refined/kd/y_test.data', y_test)"
   ]
  },
  {
   "cell_type": "markdown",
   "metadata": {},
   "source": [
    "Записали все исходные матрицы признаков, поз и ответов для Ki и Kd в отдельные файлы. Далее надо сделать замену переменных, записать новые признаки и считать скоринговый вектор."
   ]
  }
 ],
 "metadata": {
  "anaconda-cloud": {},
  "kernelspec": {
   "display_name": "Python [Root]",
   "language": "python",
   "name": "Python [Root]"
  },
  "language_info": {
   "codemirror_mode": {
    "name": "ipython",
    "version": 3
   },
   "file_extension": ".py",
   "mimetype": "text/x-python",
   "name": "python",
   "nbconvert_exporter": "python",
   "pygments_lexer": "ipython3",
   "version": "3.5.2"
  }
 },
 "nbformat": 4,
 "nbformat_minor": 0
}
