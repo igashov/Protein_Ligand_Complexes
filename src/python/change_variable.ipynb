{
 "cells": [
  {
   "cell_type": "code",
   "execution_count": 1,
   "metadata": {
    "collapsed": true
   },
   "outputs": [],
   "source": [
    "import time\n",
    "import numpy as np\n",
    "from math import log, exp\n",
    "from scipy.linalg import sqrtm, inv, norm\n",
    "from scipy.optimize import minimize"
   ]
  },
  {
   "cell_type": "markdown",
   "metadata": {},
   "source": [
    "### Замена переменных :\n",
    "\n",
    "$\\begin{aligned}\n",
    "& \\mathbf{w}'= \\mathbf{A}{\\mathbf{w}} - \\mathbf{B}, \\ \\text{где} \\\\\n",
    "& \\mathbf{A}=\\left[\\frac{1}{2}\\mathbf{I} + C_{r}{\\mathbf{X}}{\\mathbf{X}}^{\\text{T}}\\right]^{\\frac{1}{2}},\\\\\n",
    "& \\mathbf{B}=C_r\\left[\\frac{1}{2}\\mathbf{I} + C_{r}{\\mathbf{X}}{\\mathbf{X}}^{\\text{T}}\\right]^{-\\frac{1}{2}}{\\mathbf{X}}\\mathbf{s},\\\\\n",
    "&\\hat{\\mathbf{X}} = (\\mathbf{A}^{-1})^{\\text{T}}\\mathbf{X}.\n",
    "\\end{aligned}$"
   ]
  },
  {
   "cell_type": "markdown",
   "metadata": {},
   "source": [
    "### Для Ki:"
   ]
  },
  {
   "cell_type": "code",
   "execution_count": 2,
   "metadata": {
    "collapsed": true
   },
   "outputs": [],
   "source": [
    "X_nat_train = np.loadtxt('../../data/pdb/refined/ki/X_nat_train.data')\n",
    "X_train = np.loadtxt('../../data/pdb/refined/ki/X_train.data')"
   ]
  },
  {
   "cell_type": "code",
   "execution_count": 3,
   "metadata": {
    "collapsed": false
   },
   "outputs": [
    {
     "data": {
      "text/plain": [
       "(7686, 23674)"
      ]
     },
     "execution_count": 3,
     "metadata": {},
     "output_type": "execute_result"
    }
   ],
   "source": [
    "X_nat_train.shape\n",
    "X_train.shape"
   ]
  },
  {
   "cell_type": "code",
   "execution_count": 4,
   "metadata": {
    "collapsed": false
   },
   "outputs": [
    {
     "name": "stdout",
     "output_type": "stream",
     "text": [
      "--- 918.9331541061401 seconds ---\n"
     ]
    }
   ],
   "source": [
    "start_time = time.time()\n",
    "\n",
    "# Подсчет обратной матрицы A_inv и новой матрицы признаков X_changed_train\n",
    "Cr = 100 # Коэффициент регуляризации\n",
    "XXT = X_nat_train @ X_nat_train.T\n",
    "I = np.identity(XXT.shape[0])\n",
    "A = np.real(sqrtm(0.5 * I + Cr * XXT))\n",
    "A_inv = inv(A)\n",
    "X_changed_train = (A_inv.T @ X_train).T\n",
    "\n",
    "print(\"--- %s seconds ---\" % (time.time() - start_time))"
   ]
  },
  {
   "cell_type": "code",
   "execution_count": 6,
   "metadata": {
    "collapsed": true
   },
   "outputs": [],
   "source": [
    "y_train = np.loadtxt('../../data/pdb/refined/ki/y_train.data')"
   ]
  },
  {
   "cell_type": "code",
   "execution_count": 7,
   "metadata": {
    "collapsed": false
   },
   "outputs": [
    {
     "name": "stdout",
     "output_type": "stream",
     "text": [
      "--- 504.02204513549805 seconds ---\n"
     ]
    }
   ],
   "source": [
    "# Запись обратной матрицы (понадобится потом)\n",
    "np.savetxt(\"../../data/pdb/refined/ki/A_inv.data\", A_inv)\n",
    "\n",
    "start_time = time.time()\n",
    "\n",
    "# Запись обучающей выборки в файл в формате для liblinear\n",
    "with open(\"../../data/pdb/refined/ki/X_changed_train.data\", \"w\") as f:\n",
    "    for i in range(X_changed_train.shape[0]):\n",
    "        y_i = (\"+1 \" if y_train[i] == 1 else \"-1 \")\n",
    "        f.write(y_i)\n",
    "        for j in range(X_changed_train.shape[1]):\n",
    "            f.write(str(j + 1) + \":\" + str(X_changed_train[i, j]) + \" \")\n",
    "        f.write(\"\\n\")\n",
    "        \n",
    "print(\"--- %s seconds ---\" % (time.time() - start_time))"
   ]
  },
  {
   "cell_type": "markdown",
   "metadata": {},
   "source": [
    "### Для Kd:"
   ]
  },
  {
   "cell_type": "code",
   "execution_count": 8,
   "metadata": {
    "collapsed": true
   },
   "outputs": [],
   "source": [
    "X_nat_train = np.loadtxt('../../data/pdb/refined/kd/X_nat_train.data')\n",
    "X_train = np.loadtxt('../../data/pdb/refined/kd/X_train.data')\n",
    "y_train = np.loadtxt('../../data/pdb/refined/ki/y_train.data')"
   ]
  },
  {
   "cell_type": "code",
   "execution_count": 9,
   "metadata": {
    "collapsed": false
   },
   "outputs": [
    {
     "data": {
      "text/plain": [
       "(7514, 20406)"
      ]
     },
     "execution_count": 9,
     "metadata": {},
     "output_type": "execute_result"
    }
   ],
   "source": [
    "X_nat_train.shape\n",
    "X_train.shape"
   ]
  },
  {
   "cell_type": "code",
   "execution_count": 10,
   "metadata": {
    "collapsed": false
   },
   "outputs": [
    {
     "name": "stdout",
     "output_type": "stream",
     "text": [
      "--- 718.7557170391083 seconds ---\n"
     ]
    }
   ],
   "source": [
    "start_time = time.time()\n",
    "\n",
    "# Подсчет обратной матрицы A_inv и новой матрицы признаков X_changed_train \n",
    "Cr = 100 # Коэффициент регуляризации\n",
    "XXT = X_nat_train @ X_nat_train.T\n",
    "I = np.identity(XXT.shape[0])\n",
    "A = np.real(sqrtm(0.5 * I + Cr * XXT))\n",
    "A_inv = inv(A)\n",
    "X_changed_train = (A_inv.T @ X_train).T\n",
    "\n",
    "print(\"--- %s seconds ---\" % (time.time() - start_time))"
   ]
  },
  {
   "cell_type": "code",
   "execution_count": 11,
   "metadata": {
    "collapsed": false
   },
   "outputs": [
    {
     "name": "stdout",
     "output_type": "stream",
     "text": [
      "--- 404.7412669658661 seconds ---\n"
     ]
    }
   ],
   "source": [
    "# Запись обратной матрицы (понадобится потом)\n",
    "np.savetxt(\"../../data/pdb/refined/kd/A_inv.data\", A_inv)\n",
    "\n",
    "start_time = time.time()\n",
    "\n",
    "# Запись обучающей выборки в файл в формате для liblinear\n",
    "with open(\"../../data/pdb/refined/kd/X_changed_train.data\", \"w\") as f:\n",
    "    for i in range(X_changed_train.shape[0]):\n",
    "        y_i = (\"+1 \" if y_train[i] == 1 else \"-1 \")\n",
    "        f.write(y_i)\n",
    "        for j in range(X_changed_train.shape[1]):\n",
    "            f.write(str(j + 1) + \":\" + str(X_changed_train[i, j]) + \" \")\n",
    "        f.write(\"\\n\")\n",
    "        \n",
    "print(\"--- %s seconds ---\" % (time.time() - start_time))"
   ]
  },
  {
   "cell_type": "code",
   "execution_count": null,
   "metadata": {
    "collapsed": true
   },
   "outputs": [],
   "source": []
  }
 ],
 "metadata": {
  "anaconda-cloud": {},
  "kernelspec": {
   "display_name": "Python [Root]",
   "language": "python",
   "name": "Python [Root]"
  },
  "language_info": {
   "codemirror_mode": {
    "name": "ipython",
    "version": 3
   },
   "file_extension": ".py",
   "mimetype": "text/x-python",
   "name": "python",
   "nbconvert_exporter": "python",
   "pygments_lexer": "ipython3",
   "version": "3.5.2"
  }
 },
 "nbformat": 4,
 "nbformat_minor": 0
}
